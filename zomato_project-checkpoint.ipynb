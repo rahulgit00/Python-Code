{
 "cells": [
  {
   "cell_type": "code",
   "execution_count": 7,
   "metadata": {},
   "outputs": [],
   "source": [
    "from selenium import webdriver\n",
    "from bs4 import BeautifulSoup\n",
    "import pandas as pd"
   ]
  },
  {
   "cell_type": "code",
   "execution_count": 8,
   "metadata": {},
   "outputs": [],
   "source": [
    "df = pd.DataFrame(columns=[\"RESTAURANT_NAME\",\"CUISINE\",\"LOCATION\", \"COST FOR TWO\", \"HOURS\", \n",
    "                           \"FEATURED IN\", \"Sponsored\"])"
   ]
  },
  {
   "cell_type": "code",
   "execution_count": 9,
   "metadata": {},
   "outputs": [],
   "source": [
    "driver = webdriver.Chrome(\"./chromedriver.exe\")"
   ]
  },
  {
   "cell_type": "code",
   "execution_count": 10,
   "metadata": {},
   "outputs": [],
   "source": [
    "from time import sleep\n",
    "for i in range(0,10,1):\n",
    "    driver.get(\"https://www.zomato.com/bhopal/best-delivery-restaurants\"+str(i))\n",
    "    RESTAURANT_NAMES=[]\n",
    "    CUISINES = []\n",
    "    LOCATIONS=[]\n",
    "    COST_FOR_TWOS = []\n",
    "    HOURS = []\n",
    "    FEATURED_INS = []\n",
    "    Sponsoreds = []\n",
    "    sleep(5)\n",
    "    elements = driver.find_elements_by_class_name(\"search-cards\")\n",
    "    for job in elements:\n",
    "        soup = BeautifulSoup(job.get_attribute(\"innerHTML\"), 'html.parser')\n",
    "        try:\n",
    "            RESTAURANT_NAME = soup.find(\"a\", class_=\"RESTAURANT_NAME\").text.replace(\"\\n\",\"\").strip()\n",
    "            RESTAURANT_NAMES.append(RESTAURANT_NAME)\n",
    "        except:\n",
    "            RESTAURANT_NAME = None\n",
    "            RESTAURANT_NAMES.append(RESTAURANT_NAME)\n",
    "        try:\n",
    "            CUISINE = soup.find(\"a\", class_=\"CUISINE\").text.replace(\"\\n\",\"\").strip()\n",
    "            CUISINES.append(CUISINE)\n",
    "        except:\n",
    "            CUISINE = None\n",
    "            CUISINES.append(CUISINES)\n",
    "        try:\n",
    "            LOCATION = soup.find(\"a\", class_=\"LOCATION\").text.replace(\"\\n\",\"\").strip()\n",
    "            LOCATIONS.append(LOCATION)\n",
    "        except:\n",
    "            LOCATION= None\n",
    "            LOCATIONS.append(LOCATION)\n",
    "        \n",
    "        try:\n",
    "            COST_FOR_TWO= soup.find( class_=\"COST_FOR_TWO\").text.replace(\"\\n\",\"\").strip()\n",
    "            COST_FOR_TWOS.append(COST_FOR_TWO)\n",
    "        except:\n",
    "            COST_FOR_TWO  = None\n",
    "            COST_FOR_-TWOS.append(COST_FOR_TWO)\n",
    "        \n",
    "        try:\n",
    "            HOUR = soup.find(class_=\"HOUR\").text.replace(\"\\n\",\"\").strip()\n",
    "            HOURS.append(HOUR)\n",
    "        except:\n",
    "            HOUR = None\n",
    "            HOURS.append(HOUR)\n",
    "        \n",
    "        try:\n",
    "            FEATURED_IN = soup.find( class_=\"FEATURED_IN\").text.replace(\"\\n\",\"\").strip()\n",
    "            FEATURED_INS.append(FEATURD_IN)\n",
    "        except:\n",
    "            FEATURED_IN = None\n",
    "            FEATURED_INS.append(FEATURED_IN)\n",
    "        \n",
    "        try:\n",
    "            sponsored = soup.find(class_=\"sponsoredGray\").text.replace(\"\\n\",\"\").strip()\n",
    "            sponsored = \"sponsored\"\n",
    "            sponsoreds.append(sponsored)\n",
    "        except:\n",
    "            sponsored = None\n",
    "            sponsoreds.append(sponsored)\n",
    "        \n",
    "df = pd.DataFrame({\n",
    "    \"RESTAURANT_NAME\":RESTAURANT_NAMES,\n",
    "    \"CUISINE\":CUISINES,\n",
    "    \"LOCATION\":LOCATIONS,\n",
    "    \"COST_FOR_TWO\":COST_FOR_TWOS,\n",
    "    \"HOUR\":HOURS,\n",
    "    \"Sponsored\":Sponsoreds\n",
    "})\n",
    "df.to_csv(\"ZOMATO5.csv\")\n",
    "\n",
    "      "
   ]
  },
  {
   "cell_type": "code",
   "execution_count": null,
   "metadata": {},
   "outputs": [],
   "source": []
  }
 ],
 "metadata": {
  "kernelspec": {
   "display_name": "Python 3",
   "language": "python",
   "name": "python3"
  },
  "language_info": {
   "codemirror_mode": {
    "name": "ipython",
    "version": 3
   },
   "file_extension": ".py",
   "mimetype": "text/x-python",
   "name": "python",
   "nbconvert_exporter": "python",
   "pygments_lexer": "ipython3",
   "version": "3.7.3"
  }
 },
 "nbformat": 4,
 "nbformat_minor": 2
}
