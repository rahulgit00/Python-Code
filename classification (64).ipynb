{
 "cells": [
  {
   "cell_type": "code",
   "execution_count": 93,
   "metadata": {
    "colab": {},
    "colab_type": "code",
    "id": "3yjA805EFP5C"
   },
   "outputs": [],
   "source": [
    "from sklearn import datasets"
   ]
  },
  {
   "cell_type": "code",
   "execution_count": 94,
   "metadata": {
    "colab": {},
    "colab_type": "code",
    "id": "dNCFX0jiFZ0f"
   },
   "outputs": [],
   "source": [
    "mnist=datasets.load_digits()"
   ]
  },
  {
   "cell_type": "code",
   "execution_count": 95,
   "metadata": {
    "colab": {
     "base_uri": "https://localhost:8080/",
     "height": 34
    },
    "colab_type": "code",
    "id": "Qcb1tkfEFjk-",
    "outputId": "dceebb6e-c444-486b-df6b-5d449471786d"
   },
   "outputs": [
    {
     "data": {
      "text/plain": [
       "dict_keys(['data', 'target', 'target_names', 'images', 'DESCR'])"
      ]
     },
     "execution_count": 95,
     "metadata": {},
     "output_type": "execute_result"
    }
   ],
   "source": [
    "import numpy as np\n",
    "mnist.keys()"
   ]
  },
  {
   "cell_type": "code",
   "execution_count": 96,
   "metadata": {
    "colab": {},
    "colab_type": "code",
    "id": "r1z9d4VWFu2J"
   },
   "outputs": [],
   "source": [
    "mnist.target=mnist.target.astype(np.int8)"
   ]
  },
  {
   "cell_type": "code",
   "execution_count": 97,
   "metadata": {
    "colab": {},
    "colab_type": "code",
    "id": "tYk80CPBJYB-"
   },
   "outputs": [],
   "source": [
    "x=mnist.data\n",
    "y=mnist.target"
   ]
  },
  {
   "cell_type": "code",
   "execution_count": 98,
   "metadata": {
    "colab": {
     "base_uri": "https://localhost:8080/",
     "height": 34
    },
    "colab_type": "code",
    "id": "lEI5M1vaJeSU",
    "outputId": "b17cb7ef-71fe-4652-c644-eb868c6350fd"
   },
   "outputs": [
    {
     "data": {
      "text/plain": [
       "(1797,)"
      ]
     },
     "execution_count": 98,
     "metadata": {},
     "output_type": "execute_result"
    }
   ],
   "source": [
    "y.shape"
   ]
  },
  {
   "cell_type": "code",
   "execution_count": 99,
   "metadata": {
    "colab": {
     "base_uri": "https://localhost:8080/",
     "height": 34
    },
    "colab_type": "code",
    "id": "Z9F1LrkTJh1S",
    "outputId": "1f56bb3e-f4a1-44cc-ef89-ba6ca2d29aad"
   },
   "outputs": [
    {
     "data": {
      "text/plain": [
       "7"
      ]
     },
     "execution_count": 99,
     "metadata": {},
     "output_type": "execute_result"
    }
   ],
   "source": [
    "y[7]"
   ]
  },
  {
   "cell_type": "code",
   "execution_count": 100,
   "metadata": {
    "colab": {},
    "colab_type": "code",
    "id": "5zoXNUfcJj-N"
   },
   "outputs": [],
   "source": [
    "import matplotlib\n",
    "import matplotlib.pyplot as plt"
   ]
  },
  {
   "cell_type": "code",
   "execution_count": 101,
   "metadata": {
    "colab": {},
    "colab_type": "code",
    "id": "oLyHO6hOJroy"
   },
   "outputs": [],
   "source": [
    "some_digit=x[7]\n",
    "some_digit_image=some_digit.reshape(8,8)"
   ]
  },
  {
   "cell_type": "code",
   "execution_count": 102,
   "metadata": {
    "colab": {
     "base_uri": "https://localhost:8080/",
     "height": 265
    },
    "colab_type": "code",
    "id": "NCpUx2Z-J-AG",
    "outputId": "fe2677f6-761b-4a90-bbf5-3f514ac8872f"
   },
   "outputs": [
    {
     "data": {
      "image/png": "[encoded data removed]",
      "text/plain": [
       "<Figure size 432x288 with 1 Axes>"
      ]
     },
     "metadata": {
      "needs_background": "light"
     },
     "output_type": "display_data"
    }
   ],
   "source": [
    "plt.imshow(some_digit_image,cmap=matplotlib.cm.binary)\n",
    "plt.axis(\"off\")\n",
    "plt.show()"
   ]
  },
  {
   "cell_type": "code",
   "execution_count": 103,
   "metadata": {
    "colab": {},
    "colab_type": "code",
    "id": "oflcpYMVKVaO"
   },
   "outputs": [],
   "source": [
    "x_train,x_test=x[:60000],x[60000:]\n",
    "y_train,y_test=y[:60000],y[60000:]\n",
    "shuffle_index=np.random.permutation(len(x_train))\n",
    "x_traix=x_train[shuffle_index]\n",
    "y_traix=y_train[shuffle_index]\n"
   ]
  },
  {
   "cell_type": "code",
   "execution_count": 104,
   "metadata": {
    "colab": {},
    "colab_type": "code",
    "id": "5Zl-f4HwTh-9"
   },
   "outputs": [],
   "source": [
    "y_train_7=(y_train==7)\n",
    "y_test_7=(y_test==7)"
   ]
  },
  {
   "cell_type": "code",
   "execution_count": 105,
   "metadata": {
    "colab": {
     "base_uri": "https://localhost:8080/",
     "height": 34
    },
    "colab_type": "code",
    "id": "ytocxg_VTvwd",
    "outputId": "040d6a1a-ea8e-4159-b600-da6523140937"
   },
   "outputs": [
    {
     "data": {
      "text/plain": [
       "array([False, False, False, ..., False, False, False])"
      ]
     },
     "execution_count": 105,
     "metadata": {},
     "output_type": "execute_result"
    }
   ],
   "source": [
    "y_train_7"
   ]
  },
  {
   "cell_type": "code",
   "execution_count": 106,
   "metadata": {
    "colab": {},
    "colab_type": "code",
    "id": "iVzckQepTx6J"
   },
   "outputs": [],
   "source": [
    "class SGDClassifier:\n",
    "  def __init__(self,y=5,random_state=None):\n",
    "    print(random_state,y)\n",
    "    def fit(self,x,y):\n",
    "      print(\"Model is Classified\")"
   ]
  },
  {
   "cell_type": "code",
   "execution_count": 107,
   "metadata": {
    "colab": {
     "base_uri": "https://localhost:8080/",
     "height": 34
    },
    "colab_type": "code",
    "id": "kOmAPThpUdIU",
    "outputId": "d0b682bc-4d5e-4e9f-d351-6c9a1c03e4a8"
   },
   "outputs": [
    {
     "name": "stdout",
     "output_type": "stream",
     "text": [
      "7 5\n"
     ]
    }
   ],
   "source": [
    "sgd_clf=SGDClassifier(random_state=7)"
   ]
  },
  {
   "cell_type": "code",
   "execution_count": 118,
   "metadata": {
    "colab": {
     "base_uri": "https://localhost:8080/",
     "height": 34
    },
    "colab_type": "code",
    "id": "us7mW_RdVYnt",
    "outputId": "fecd7569-008a-41d1-fc38-ffac8dd99773"
   },
   "outputs": [
    {
     "data": {
      "text/plain": [
       "array([False])"
      ]
     },
     "execution_count": 118,
     "metadata": {},
     "output_type": "execute_result"
    }
   ],
   "source": [
    "import warnings\n",
    "warnings.simplefilter(action=\"ignore\",category=FutureWarning)\n",
    "from sklearn.linear_model import SGDClassifier\n",
    "sgd_clf=SGDClassifier(random_state=0)\n",
    "sgd_clf.fit(x_train,y_train_7)\n",
    "sgd_clf.predict([x[9]])"
   ]
  },
  {
   "cell_type": "code",
   "execution_count": 119,
   "metadata": {
    "colab": {},
    "colab_type": "code",
    "id": "-7kUo-Z9XiM5"
   },
   "outputs": [],
   "source": [
    "y_pred=sgd_clf.predict(x_train)"
   ]
  },
  {
   "cell_type": "code",
   "execution_count": 120,
   "metadata": {
    "colab": {},
    "colab_type": "code",
    "id": "WL1JwMdZWeqI"
   },
   "outputs": [],
   "source": [
    "from sklearn.metrics import confusion_matrix,accuracy_score"
   ]
  },
  {
   "cell_type": "code",
   "execution_count": 121,
   "metadata": {
    "colab": {},
    "colab_type": "code",
    "id": "Z_7V0qslagSF"
   },
   "outputs": [],
   "source": [
    "cm=confusion_matrix(y_train_7,y_pred)"
   ]
  },
  {
   "cell_type": "code",
   "execution_count": 122,
   "metadata": {
    "colab": {
     "base_uri": "https://localhost:8080/",
     "height": 51
    },
    "colab_type": "code",
    "id": "cL9cNCmGagYN",
    "outputId": "a61b8d36-f486-4afd-b1e0-9c1911f60243"
   },
   "outputs": [
    {
     "data": {
      "text/plain": [
       "array([[1613,    5],\n",
       "       [   3,  176]], dtype=int64)"
      ]
     },
     "execution_count": 122,
     "metadata": {},
     "output_type": "execute_result"
    }
   ],
   "source": [
    "cm"
   ]
  },
  {
   "cell_type": "code",
   "execution_count": 123,
   "metadata": {
    "colab": {
     "base_uri": "https://localhost:8080/",
     "height": 34
    },
    "colab_type": "code",
    "id": "kfnrARaAW2aj",
    "outputId": "43d5995b-a400-48b0-fc40-71c8e6fcf82b"
   },
   "outputs": [
    {
     "data": {
      "text/plain": [
       "0.9955481357818586"
      ]
     },
     "execution_count": 123,
     "metadata": {},
     "output_type": "execute_result"
    }
   ],
   "source": [
    "accuracy_score(y_train_7,y_pred)"
   ]
  },
  {
   "cell_type": "code",
   "execution_count": 124,
   "metadata": {
    "colab": {},
    "colab_type": "code",
    "id": "Rl1kIeu5a1f-"
   },
   "outputs": [],
   "source": [
    "from sklearn.model_selection import cross_val_predict,cross_val_score"
   ]
  },
  {
   "cell_type": "code",
   "execution_count": 128,
   "metadata": {
    "colab": {},
    "colab_type": "code",
    "id": "cxqiqH_TbCR-"
   },
   "outputs": [],
   "source": [
    "y_train_pred=cross_val_predict(sgd_clf,x_train,y_train_7,cv=3)"
   ]
  },
  {
   "cell_type": "code",
   "execution_count": 129,
   "metadata": {
    "colab": {
     "base_uri": "https://localhost:8080/",
     "height": 34
    },
    "colab_type": "code",
    "id": "H3mEuX08bSDf",
    "outputId": "d07eece9-ff07-4e08-8ddd-15592936edf8"
   },
   "outputs": [
    {
     "data": {
      "text/plain": [
       "1797"
      ]
     },
     "execution_count": 129,
     "metadata": {},
     "output_type": "execute_result"
    }
   ],
   "source": [
    "len(y_train_pred)"
   ]
  },
  {
   "cell_type": "code",
   "execution_count": 130,
   "metadata": {
    "colab": {
     "base_uri": "https://localhost:8080/",
     "height": 34
    },
    "colab_type": "code",
    "id": "UPWC_3K4bWrH",
    "outputId": "00bbd693-e731-4ebb-c99b-fbce847a6e02"
   },
   "outputs": [
    {
     "data": {
      "text/plain": [
       "0.9771841958820257"
      ]
     },
     "execution_count": 130,
     "metadata": {},
     "output_type": "execute_result"
    }
   ],
   "source": [
    "accuracy_score(y_train_7,y_train_pred)"
   ]
  },
  {
   "cell_type": "code",
   "execution_count": 131,
   "metadata": {
    "colab": {},
    "colab_type": "code",
    "id": "aKEizPi4bnHk"
   },
   "outputs": [],
   "source": [
    "from sklearn.model_selection import cross_val_predict,cross_val_score"
   ]
  },
  {
   "cell_type": "code",
   "execution_count": 132,
   "metadata": {
    "colab": {},
    "colab_type": "code",
    "id": "mpoYmQCYade9"
   },
   "outputs": [],
   "source": [
    "y_train_pred=cross_val_predict(sgd_clf,x_train,y_train_7,cv=3)"
   ]
  },
  {
   "cell_type": "code",
   "execution_count": 133,
   "metadata": {
    "colab": {
     "base_uri": "https://localhost:8080/",
     "height": 34
    },
    "colab_type": "code",
    "id": "sBikZCdea0l5",
    "outputId": "24839285-2881-496d-e32f-5f89037e9049"
   },
   "outputs": [
    {
     "data": {
      "text/plain": [
       "1797"
      ]
     },
     "execution_count": 133,
     "metadata": {},
     "output_type": "execute_result"
    }
   ],
   "source": [
    "len(y_train_pred)"
   ]
  },
  {
   "cell_type": "code",
   "execution_count": 134,
   "metadata": {
    "colab": {},
    "colab_type": "code",
    "id": "WLYeNl7mbXmP"
   },
   "outputs": [],
   "source": [
    "y_score=sgd_clf.decision_function([x[4]])\n"
   ]
  },
  {
   "cell_type": "code",
   "execution_count": 135,
   "metadata": {
    "colab": {
     "base_uri": "https://localhost:8080/",
     "height": 34
    },
    "colab_type": "code",
    "id": "IX1VdbskblEi",
    "outputId": "991188f8-bdd9-45e1-9e63-ed0b5448f550"
   },
   "outputs": [
    {
     "data": {
      "text/plain": [
       "array([-6494.17952468])"
      ]
     },
     "execution_count": 135,
     "metadata": {},
     "output_type": "execute_result"
    }
   ],
   "source": [
    "y_score"
   ]
  },
  {
   "cell_type": "code",
   "execution_count": 136,
   "metadata": {
    "colab": {},
    "colab_type": "code",
    "id": "86UZVAdnbrph"
   },
   "outputs": [],
   "source": [
    "y_score=cross_val_predict(sgd_clf,x_train,y_train_7,cv=3,method=\"decision_function\")"
   ]
  },
  {
   "cell_type": "code",
   "execution_count": 137,
   "metadata": {
    "colab": {
     "base_uri": "https://localhost:8080/",
     "height": 34
    },
    "colab_type": "code",
    "id": "ka-goRV9cDu_",
    "outputId": "b7c182e1-d77a-4e15-8d83-1385a92f4523"
   },
   "outputs": [
    {
     "data": {
      "text/plain": [
       "1797"
      ]
     },
     "execution_count": 137,
     "metadata": {},
     "output_type": "execute_result"
    }
   ],
   "source": [
    "len( y_score)"
   ]
  },
  {
   "cell_type": "code",
   "execution_count": 138,
   "metadata": {
    "colab": {
     "base_uri": "https://localhost:8080/",
     "height": 238
    },
    "colab_type": "code",
    "id": "BKOgCbXMd7ps",
    "outputId": "ef07108f-4fa8-45ae-95a1-a9389167ae0d"
   },
   "outputs": [
    {
     "data": {
      "text/plain": [
       "array([ -6314.37158515, -11423.19174551,  -6251.37043967, ...,\n",
       "       -17300.3642817 , -13016.69256308, -19884.00740438])"
      ]
     },
     "execution_count": 138,
     "metadata": {},
     "output_type": "execute_result"
    }
   ],
   "source": [
    "y_score"
   ]
  },
  {
   "cell_type": "code",
   "execution_count": 139,
   "metadata": {
    "colab": {},
    "colab_type": "code",
    "id": "97UqXQSLcG7M"
   },
   "outputs": [],
   "source": [
    "from sklearn.metrics import roc_curve"
   ]
  },
  {
   "cell_type": "code",
   "execution_count": 140,
   "metadata": {
    "colab": {
     "base_uri": "https://localhost:8080/",
     "height": 306
    },
    "colab_type": "code",
    "id": "YK1pDOy_cUWp",
    "outputId": "fdf98cc7-d6ea-42bc-87ef-4fb59584cffe"
   },
   "outputs": [],
   "source": [
    "fpr,tpr,the=roc_curve(y_train_7,y_score)"
   ]
  },
  {
   "cell_type": "code",
   "execution_count": 141,
   "metadata": {
    "colab": {
     "base_uri": "https://localhost:8080/",
     "height": 163
    },
    "colab_type": "code",
    "id": "DNL_JHmrch2i",
    "outputId": "a64994f8-d9fc-4b4c-c23e-eb007d160353"
   },
   "outputs": [
    {
     "data": {
      "text/plain": [
       "array([  9487.02933123,   9486.02933123,   1276.98773431,   1230.01558553,\n",
       "          853.38297845,    831.96289366,    141.72894106,    108.88156491,\n",
       "         -225.72887993,   -304.92141332,   -646.1162346 ,   -684.69370692,\n",
       "        -1025.28349744,  -1191.23298263,  -1219.43777326,  -1324.32484813,\n",
       "        -1340.06386659,  -1378.80457484,  -1453.92447615,  -1650.85497575,\n",
       "        -1712.07703013,  -1724.95440887,  -1768.4798093 ,  -1811.37371836,\n",
       "        -1819.95250017,  -1922.90537667,  -1943.86984742,  -2003.96428153,\n",
       "        -2008.68570006,  -2189.22840072,  -2194.95577759,  -2227.17217965,\n",
       "        -2231.7340272 ,  -2506.18205231,  -2596.33225425,  -2637.39564013,\n",
       "        -2711.85153933,  -2807.78510176,  -2819.23985548,  -2956.69690015,\n",
       "        -2968.07946614,  -3142.83664815,  -3371.9317226 ,  -3581.46236577,\n",
       "        -3606.75417392,  -4036.30743852,  -4072.10354391,  -4427.90217132,\n",
       "        -4451.54226098,  -4578.97639614,  -4586.13561722,  -5436.65108114,\n",
       "        -5450.96952329,  -5761.90274324,  -5776.20071293,  -6527.71637323,\n",
       "        -6542.57188822,  -7323.82175697,  -7325.18334005, -10110.98960704,\n",
       "       -10114.20471636, -12018.27248013, -12029.719039  , -12665.00305675,\n",
       "       -12669.29551633, -16654.09605179, -16661.28292511, -26013.12152863])"
      ]
     },
     "execution_count": 141,
     "metadata": {},
     "output_type": "execute_result"
    }
   ],
   "source": [
    "the"
   ]
  },
  {
   "cell_type": "code",
   "execution_count": 142,
   "metadata": {
    "colab": {},
    "colab_type": "code",
    "id": "V-Zy8J13cjFr"
   },
   "outputs": [
    {
     "data": {
      "text/plain": [
       "Text(0, 0.5, 'True Positive Rate')"
      ]
     },
     "execution_count": 142,
     "metadata": {},
     "output_type": "execute_result"
    },
    {
     "data": {
      "image/png": "[encoded data removed]",
      "text/plain": [
       "<Figure size 432x288 with 1 Axes>"
      ]
     },
     "metadata": {
      "needs_background": "light"
     },
     "output_type": "display_data"
    }
   ],
   "source": [
    "plt.plot(fpr,tpr)\n",
    "plt.xlabel(\"False Positive Rate\")\n",
    "plt.ylabel(\"True Positive Rate\")\n"
   ]
  },
  {
   "cell_type": "code",
   "execution_count": 145,
   "metadata": {
    "colab": {},
    "colab_type": "code",
    "id": "3B5Ze_jXcpdT"
   },
   "outputs": [],
   "source": [
    "from sklearn.multiclass import OneVsOneClassifier"
   ]
  },
  {
   "cell_type": "code",
   "execution_count": 146,
   "metadata": {
    "colab": {},
    "colab_type": "code",
    "id": "CPKgxj52dQvg"
   },
   "outputs": [
    {
     "data": {
      "text/plain": [
       "SGDClassifier(alpha=0.0001, average=False, class_weight=None,\n",
       "       early_stopping=False, epsilon=0.1, eta0=0.0, fit_intercept=True,\n",
       "       l1_ratio=0.15, learning_rate='optimal', loss='hinge', max_iter=None,\n",
       "       n_iter=None, n_iter_no_change=5, n_jobs=None, penalty='l2',\n",
       "       power_t=0.5, random_state=0, shuffle=True, tol=None,\n",
       "       validation_fraction=0.1, verbose=0, warm_start=False)"
      ]
     },
     "execution_count": 146,
     "metadata": {},
     "output_type": "execute_result"
    }
   ],
   "source": [
    "sgd_clf=SGDClassifier(random_state=0)\n",
    "sgd_clf.fit(x_train,y_train)"
   ]
  },
  {
   "cell_type": "code",
   "execution_count": 147,
   "metadata": {
    "colab": {},
    "colab_type": "code",
    "id": "HZyWqIEAeYzO"
   },
   "outputs": [
    {
     "data": {
      "text/plain": [
       "array([[ -9696.07250703,  -5819.38294588,  -4169.05684902,\n",
       "         -9158.94251576,  -4166.77438432,  -3104.54669513,\n",
       "         -7326.62118379,   4446.32528301, -10088.90968033,\n",
       "         -8391.63300726]])"
      ]
     },
     "execution_count": 147,
     "metadata": {},
     "output_type": "execute_result"
    }
   ],
   "source": [
    "y_score=sgd_clf.decision_function([x[7]])\n",
    "y_score"
   ]
  },
  {
   "cell_type": "code",
   "execution_count": 148,
   "metadata": {
    "colab": {},
    "colab_type": "code",
    "id": "PV-o4fmseY3R"
   },
   "outputs": [
    {
     "data": {
      "text/plain": [
       "OneVsOneClassifier(estimator=SGDClassifier(alpha=0.0001, average=False, class_weight=None,\n",
       "       early_stopping=False, epsilon=0.1, eta0=0.0, fit_intercept=True,\n",
       "       l1_ratio=0.15, learning_rate='optimal', loss='hinge', max_iter=None,\n",
       "       n_iter=None, n_iter_no_change=5, n_jobs=None, penalty='l2',\n",
       "       power_t=0.5, random_state=0, shuffle=True, tol=None,\n",
       "       validation_fraction=0.1, verbose=0, warm_start=False),\n",
       "          n_jobs=None)"
      ]
     },
     "execution_count": 148,
     "metadata": {},
     "output_type": "execute_result"
    }
   ],
   "source": [
    "ovo_clf=OneVsOneClassifier(sgd_clf)\n",
    "ovo_clf.fit(x_train,y_train)"
   ]
  },
  {
   "cell_type": "code",
   "execution_count": 155,
   "metadata": {},
   "outputs": [
    {
     "data": {
      "text/plain": [
       "array([7], dtype=int8)"
      ]
     },
     "execution_count": 155,
     "metadata": {},
     "output_type": "execute_result"
    }
   ],
   "source": [
    "ovo_clf.predict([some_digit])"
   ]
  },
  {
   "cell_type": "code",
   "execution_count": 156,
   "metadata": {},
   "outputs": [
    {
     "data": {
      "text/plain": [
       "45"
      ]
     },
     "execution_count": 156,
     "metadata": {},
     "output_type": "execute_result"
    }
   ],
   "source": [
    "len(ovo_clf.estimators_)"
   ]
  },
  {
   "cell_type": "code",
   "execution_count": 157,
   "metadata": {
    "colab": {},
    "colab_type": "code",
    "id": "LJdI09pYeYwU"
   },
   "outputs": [],
   "source": [
    "y_train_pred=cross_val_predict(sgd_clf,x_train,y_train,cv=3)"
   ]
  },
  {
   "cell_type": "code",
   "execution_count": 158,
   "metadata": {
    "colab": {},
    "colab_type": "code",
    "id": "Di-yPUNieYty"
   },
   "outputs": [
    {
     "data": {
      "text/plain": [
       "array([0, 1, 2, ..., 8, 9, 8], dtype=int8)"
      ]
     },
     "execution_count": 158,
     "metadata": {},
     "output_type": "execute_result"
    }
   ],
   "source": [
    "y_train_pred"
   ]
  },
  {
   "cell_type": "code",
   "execution_count": 159,
   "metadata": {
    "colab": {},
    "colab_type": "code",
    "id": "Ikb8a_BBeYsC"
   },
   "outputs": [],
   "source": [
    "cm=confusion_matrix(y_train,y_train_pred)"
   ]
  },
  {
   "cell_type": "code",
   "execution_count": 160,
   "metadata": {
    "colab": {},
    "colab_type": "code",
    "id": "8Hd9qHXLfmh6"
   },
   "outputs": [
    {
     "data": {
      "text/plain": [
       "array([[176,   0,   0,   0,   1,   1,   0,   0,   0,   0],\n",
       "       [  1, 157,   5,   7,   0,   1,   1,   0,   6,   4],\n",
       "       [  0,   2, 173,   2,   0,   0,   0,   0,   0,   0],\n",
       "       [  0,   0,   5, 175,   0,   2,   0,   0,   1,   0],\n",
       "       [  2,   6,   0,   0, 165,   0,   0,   1,   5,   2],\n",
       "       [  0,   1,   2,   3,   0, 172,   1,   0,   0,   3],\n",
       "       [  2,   4,   0,   0,   0,   1, 168,   0,   6,   0],\n",
       "       [  0,   2,   0,   2,   0,   8,   0, 166,   1,   0],\n",
       "       [  2,  11,   4,  20,   0,   4,   1,   0, 132,   0],\n",
       "       [  5,  11,   9,  18,   1,   5,   0,   3,  13, 115]], dtype=int64)"
      ]
     },
     "execution_count": 160,
     "metadata": {},
     "output_type": "execute_result"
    }
   ],
   "source": [
    "cm"
   ]
  },
  {
   "cell_type": "code",
   "execution_count": 161,
   "metadata": {
    "colab": {},
    "colab_type": "code",
    "id": "s5PIMPJnfmuD"
   },
   "outputs": [],
   "source": [
    "import seaborn as sn"
   ]
  },
  {
   "cell_type": "code",
   "execution_count": 162,
   "metadata": {
    "colab": {},
    "colab_type": "code",
    "id": "jp-vFieKfm9a"
   },
   "outputs": [
    {
     "data": {
      "image/png": "[encoded data removed]",
      "text/plain": [
       "<Figure size 1080x720 with 2 Axes>"
      ]
     },
     "metadata": {
      "needs_background": "light"
     },
     "output_type": "display_data"
    }
   ],
   "source": [
    "plt.figure(figsize=(15,10))\n",
    "sn.heatmap(cm,annot=True)\n",
    "plt.show()"
   ]
  },
  {
   "cell_type": "code",
   "execution_count": null,
   "metadata": {},
   "outputs": [],
   "source": []
  }
 ],
 "metadata": {
  "colab": {
   "collapsed_sections": [],
   "name": "classification",
   "provenance": [],
   "version": "0.3.2"
  },
  "kernelspec": {
   "display_name": "Python 3",
   "language": "python",
   "name": "python3"
  },
  "language_info": {
   "codemirror_mode": {
    "name": "ipython",
    "version": 3
   },
   "file_extension": ".py",
   "mimetype": "text/x-python",
   "name": "python",
   "nbconvert_exporter": "python",
   "pygments_lexer": "ipython3",
   "version": "3.7.3"
  }
 },
 "nbformat": 4,
 "nbformat_minor": 1
}
