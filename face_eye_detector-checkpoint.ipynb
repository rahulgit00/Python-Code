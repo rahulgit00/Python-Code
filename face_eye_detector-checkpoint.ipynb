{
 "cells": [
  {
   "cell_type": "code",
   "execution_count": 3,
   "metadata": {},
   "outputs": [],
   "source": [
    "import cv2\n",
    "import numpy as np"
   ]
  },
  {
   "cell_type": "code",
   "execution_count": 4,
   "metadata": {},
   "outputs": [
    {
     "data": {
      "text/plain": [
       "-1"
      ]
     },
     "execution_count": 4,
     "metadata": {},
     "output_type": "execute_result"
    }
   ],
   "source": [
    "img=cv2.imread(\"./IMG_20190716_065636_594.jpg\")\n",
    "cv2.resize(img,(40,40))\n",
    "cv2.imshow(\"Image\",img)\n",
    "cv2.waitKey(0)\n",
    "      \n",
    "               "
   ]
  },
  {
   "cell_type": "code",
   "execution_count": null,
   "metadata": {},
   "outputs": [],
   "source": [
    "import cv2\n",
    "import numpy as np\n",
    "face_cascade=cv2.CascadeClassifier(\"./haarcascade_frontalface_default.xml\")\n",
    "eye_cascade=cv2.CascadeClassifier(\"./haarcascade_eye.xml\")\n",
    "cam-cv2.VideoCapture(0)\n",
    "img=cv2.imread(\"./IMG_20190716_065636_594.jpg\")\n",
    "cv2.resize(img,(40,40))\n",
    "cv2.imshow(\"Image\",img)\n",
    "cv2.waitKey(0)\n",
    "cam=cv2.VideoCapture(0)\n",
    "while True:\n",
    "    ret,frame=cam.read()\n",
    "    gray=cv2.cvtColor(Frame,cv2.COLOR_BGR2GRAY)\n",
    "    faces=face_cascade.detectMultiScale(gray,1.3,5)\n",
    "    for(x,y,w,h) in faces:\n",
    "        cv2.rectangle(frame,(x,y),(x+w,y+h),(0,255,0),2)\n",
    "        eye_img=frame[y:y+h,x:x+w]\n",
    "        eyes=eye_cascade.detectMultiScale(gray[y:y+h,x:x+w])\n",
    "        for(ex,ey,ew,eh) in eyes:\n",
    "            cv2.rectangle(eye_img,(ex,ey),(ex+ew,ey+eh),(0,0,255),2)\n",
    "            \n",
    "    #cv2.imshow(\"Image\",gray)\n",
    "    cv2.imshow(\"Color Image\",frame)\n",
    "    if cv2.waitkey(1) & 0xff == ord(\"q\"):\n",
    "        break\n",
    "cam.release()\n",
    "cv2.destroyAllWindows()"
   ]
  }
 ],
 "metadata": {
  "kernelspec": {
   "display_name": "Python 3",
   "language": "python",
   "name": "python3"
  },
  "language_info": {
   "codemirror_mode": {
    "name": "ipython",
    "version": 3
   },
   "file_extension": ".py",
   "mimetype": "text/x-python",
   "name": "python",
   "nbconvert_exporter": "python",
   "pygments_lexer": "ipython3",
   "version": "3.7.3"
  }
 },
 "nbformat": 4,
 "nbformat_minor": 2
}
